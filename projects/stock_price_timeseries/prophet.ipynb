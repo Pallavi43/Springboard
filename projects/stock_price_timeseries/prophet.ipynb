{
 "cells": [
  {
   "cell_type": "markdown",
   "id": "bd749849",
   "metadata": {},
   "source": [
    "## Table of Contents:\n",
    "* [Introduction](#Introduction)\n",
    "* [Import Libraries](#import-libraries)\n",
    "* [Selecting a Single Stock](#selecting_a_single_stock)\n",
    "* [Fitting the Prophet model](#fit)\n",
    "* [Residual Plot](#resid)\n",
    "* [In-Sample Forecast](#IN)\n",
    "* [OUT-Of-Sample Forecast](#OUT)\n",
    "* [Accuracy Metrics](#acc_met)\n",
    "* [Auto ARIMA Forecasting](#auto)"
   ]
  },
  {
   "cell_type": "markdown",
   "id": "3aa2df9c",
   "metadata": {},
   "source": [
    "## Introduction <a class=\"anchor\" id=\"Introduction\"></a>"
   ]
  },
  {
   "cell_type": "markdown",
   "id": "b898bb90",
   "metadata": {},
   "source": [
    "## Stock Price Forecasting with Prophet"
   ]
  },
  {
   "cell_type": "markdown",
   "id": "8e141a35",
   "metadata": {},
   "source": [
    "## Importing the necessary libraries <a class=\"anchor\" id=\"import-libraries\"></a>"
   ]
  },
  {
   "cell_type": "code",
   "execution_count": 1,
   "id": "a409aaa7",
   "metadata": {},
   "outputs": [],
   "source": [
    "import pandas as pd\n",
    "import datetime as dt\n",
    "from datetime import datetime\n",
    "from urllib.error import HTTPError\n",
    "import re\n",
    "import csv\n",
    "import warnings\n",
    "import numpy as np\n",
    "import pickle\n",
    "#import statsmodels.api as sm\n",
    "#from statsmodels.graphics.tsaplots import plot_acf, plot_pacf,plot_predict\n",
    "import matplotlib.pyplot as plt\n",
    "#from statsmodels.tsa.arima.model import ARIMA\n",
    "#from statsmodels.tsa.stattools import acf\n",
    "#from statsmodels.tsa.stattools import adfuller\n",
    "#from statsmodels.tsa.stattools import kpss\n",
    "#import pmdarima as pm\n",
    "#import scipy.stats as stats\n",
    "#from scipy.stats import boxcox\n",
    "#from sklearn.metrics import mean_squared_error\n",
    "import fbprophet\n",
    "from prophet import Prophet"
   ]
  },
  {
   "cell_type": "markdown",
   "id": "02cc2128",
   "metadata": {},
   "source": [
    "## Picking a single stock data<a class=\"anchor\" id=\"selecting_a_single_stock\"></a>"
   ]
  },
  {
   "cell_type": "code",
   "execution_count": null,
   "id": "16d4e4b9",
   "metadata": {},
   "outputs": [],
   "source": [
    "with open('cons_cyc_df_years.pickle', 'rb') as handle:\n",
    "    cons_cyc_df_years = pickle.load(handle)\n",
    "cons_cyc_df_years"
   ]
  },
  {
   "cell_type": "markdown",
   "id": "13691601",
   "metadata": {},
   "source": [
    "## Building Prophet model<a class=\"anchor\" id=\"fit\"></a>"
   ]
  },
  {
   "cell_type": "code",
   "execution_count": 67,
   "id": "4fa98482",
   "metadata": {},
   "outputs": [
    {
     "data": {
      "text/html": [
       "<div>\n",
       "<style scoped>\n",
       "    .dataframe tbody tr th:only-of-type {\n",
       "        vertical-align: middle;\n",
       "    }\n",
       "\n",
       "    .dataframe tbody tr th {\n",
       "        vertical-align: top;\n",
       "    }\n",
       "\n",
       "    .dataframe thead th {\n",
       "        text-align: right;\n",
       "    }\n",
       "</style>\n",
       "<table border=\"1\" class=\"dataframe\">\n",
       "  <thead>\n",
       "    <tr style=\"text-align: right;\">\n",
       "      <th></th>\n",
       "      <th>Close</th>\n",
       "    </tr>\n",
       "  </thead>\n",
       "  <tbody>\n",
       "    <tr>\n",
       "      <th>2006-01-03</th>\n",
       "      <td>47.58</td>\n",
       "    </tr>\n",
       "    <tr>\n",
       "      <th>2006-01-04</th>\n",
       "      <td>47.25</td>\n",
       "    </tr>\n",
       "    <tr>\n",
       "      <th>2006-01-05</th>\n",
       "      <td>47.65</td>\n",
       "    </tr>\n",
       "    <tr>\n",
       "      <th>2006-01-06</th>\n",
       "      <td>47.87</td>\n",
       "    </tr>\n",
       "    <tr>\n",
       "      <th>2006-01-09</th>\n",
       "      <td>47.08</td>\n",
       "    </tr>\n",
       "    <tr>\n",
       "      <th>...</th>\n",
       "      <td>...</td>\n",
       "    </tr>\n",
       "    <tr>\n",
       "      <th>2017-11-06</th>\n",
       "      <td>1120.66</td>\n",
       "    </tr>\n",
       "    <tr>\n",
       "      <th>2017-11-07</th>\n",
       "      <td>1123.17</td>\n",
       "    </tr>\n",
       "    <tr>\n",
       "      <th>2017-11-08</th>\n",
       "      <td>1132.88</td>\n",
       "    </tr>\n",
       "    <tr>\n",
       "      <th>2017-11-09</th>\n",
       "      <td>1129.13</td>\n",
       "    </tr>\n",
       "    <tr>\n",
       "      <th>2017-11-10</th>\n",
       "      <td>1125.35</td>\n",
       "    </tr>\n",
       "  </tbody>\n",
       "</table>\n",
       "<p>2987 rows × 1 columns</p>\n",
       "</div>"
      ],
      "text/plain": [
       "              Close\n",
       "2006-01-03    47.58\n",
       "2006-01-04    47.25\n",
       "2006-01-05    47.65\n",
       "2006-01-06    47.87\n",
       "2006-01-09    47.08\n",
       "...             ...\n",
       "2017-11-06  1120.66\n",
       "2017-11-07  1123.17\n",
       "2017-11-08  1132.88\n",
       "2017-11-09  1129.13\n",
       "2017-11-10  1125.35\n",
       "\n",
       "[2987 rows x 1 columns]"
      ]
     },
     "execution_count": 67,
     "metadata": {},
     "output_type": "execute_result"
    }
   ],
   "source": [
    "amazon_cl = cons_cyc_df_years['AMZN'][['Close']]\n",
    "amazon_return = cons_cyc_df_years['AMZN'][['Daily_Returns']]\n",
    "amazon_cl"
   ]
  },
  {
   "cell_type": "code",
   "execution_count": null,
   "id": "760341cf",
   "metadata": {},
   "outputs": [],
   "source": [
    "Fit Prophet Model"
   ]
  },
  {
   "cell_type": "code",
   "execution_count": 68,
   "id": "4446fd76",
   "metadata": {},
   "outputs": [],
   "source": [
    "amazon_cl.reset_index(inplace=True)\n",
    "amazon_cl = amazon_cl.rename(columns = {'index':'ds','Close':'y'})"
   ]
  },
  {
   "cell_type": "code",
   "execution_count": 71,
   "id": "ab9714b5",
   "metadata": {},
   "outputs": [
    {
     "name": "stderr",
     "output_type": "stream",
     "text": [
      "INFO:prophet:Disabling daily seasonality. Run prophet with daily_seasonality=True to override this.\n",
      "/Users/pallavibothra/opt/anaconda3/envs/prophet39/lib/python3.9/site-packages/prophet/forecaster.py:896: FutureWarning: The frame.append method is deprecated and will be removed from pandas in a future version. Use pandas.concat instead.\n",
      "  components = components.append(new_comp)\n"
     ]
    },
    {
     "name": "stdout",
     "output_type": "stream",
     "text": [
      "Initial log joint probability = -127.271\n"
     ]
    },
    {
     "data": {
      "text/plain": [
       "<prophet.forecaster.Prophet at 0x7fe73443bd30>"
      ]
     },
     "execution_count": 71,
     "metadata": {},
     "output_type": "execute_result"
    },
    {
     "name": "stdout",
     "output_type": "stream",
     "text": [
      "    Iter      log prob        ||dx||      ||grad||       alpha      alpha0  # evals  Notes \n",
      "      99       9271.43    0.00180819       1249.53           1           1      117   \n",
      "    Iter      log prob        ||dx||      ||grad||       alpha      alpha0  # evals  Notes \n",
      "     199       9483.69     0.0122135       1922.77           1           1      231   \n",
      "    Iter      log prob        ||dx||      ||grad||       alpha      alpha0  # evals  Notes \n",
      "     299        9634.2   0.000785193       375.181           1           1      338   \n",
      "    Iter      log prob        ||dx||      ||grad||       alpha      alpha0  # evals  Notes \n",
      "     399       9662.18     0.0121764       916.496           1           1      448   \n",
      "    Iter      log prob        ||dx||      ||grad||       alpha      alpha0  # evals  Notes \n",
      "     499          9731    0.00177852       1658.23      0.1529           1      560   \n",
      "    Iter      log prob        ||dx||      ||grad||       alpha      alpha0  # evals  Notes \n",
      "     599       9743.04    0.00280701       841.339           1           1      669   \n",
      "    Iter      log prob        ||dx||      ||grad||       alpha      alpha0  # evals  Notes \n",
      "     699       9749.67    0.00164932       366.271           1           1      779   \n",
      "    Iter      log prob        ||dx||      ||grad||       alpha      alpha0  # evals  Notes \n",
      "     799       9752.24    0.00037201       177.997           1           1      893   \n",
      "    Iter      log prob        ||dx||      ||grad||       alpha      alpha0  # evals  Notes \n",
      "     895       9757.31   6.87027e-05       413.017   3.281e-07       0.001     1046  LS failed, Hessian reset \n",
      "     899        9757.4   0.000574629       846.278           1           1     1050   \n",
      "    Iter      log prob        ||dx||      ||grad||       alpha      alpha0  # evals  Notes \n",
      "     999       9760.55   0.000320493       190.701           1           1     1164   \n",
      "    Iter      log prob        ||dx||      ||grad||       alpha      alpha0  # evals  Notes \n",
      "    1097       9762.09   2.88172e-05       200.261   2.132e-07       0.001     1319  LS failed, Hessian reset \n",
      "    1099       9762.09   1.77325e-05       72.6059           1           1     1321   \n",
      "    Iter      log prob        ||dx||      ||grad||       alpha      alpha0  # evals  Notes \n",
      "    1199       9763.92   0.000206249        171.73           1           1     1439   \n",
      "    Iter      log prob        ||dx||      ||grad||       alpha      alpha0  # evals  Notes \n",
      "    1299       9764.35   0.000152201       133.064           1           1     1566   \n",
      "    Iter      log prob        ||dx||      ||grad||       alpha      alpha0  # evals  Notes \n",
      "    1399       9766.67   0.000811606       152.739           1           1     1694   \n",
      "    Iter      log prob        ||dx||      ||grad||       alpha      alpha0  # evals  Notes \n",
      "    1499       9768.69   0.000133967        198.66      0.3961      0.3961     1813   \n",
      "    Iter      log prob        ||dx||      ||grad||       alpha      alpha0  # evals  Notes \n",
      "    1562       9769.62   1.47997e-05       153.045   6.622e-08       0.001     1932  LS failed, Hessian reset \n",
      "    1586       9769.83   1.12725e-05        109.32    1.95e-07       0.001     2009  LS failed, Hessian reset \n",
      "    1599       9769.88   2.95911e-05       183.347      0.7432      0.7432     2024   \n",
      "    Iter      log prob        ||dx||      ||grad||       alpha      alpha0  # evals  Notes \n",
      "    1699       9770.79   0.000645533       144.586           1           1     2150   \n",
      "    Iter      log prob        ||dx||      ||grad||       alpha      alpha0  # evals  Notes \n",
      "    1739       9770.91   2.41511e-05       197.104   1.833e-07       0.001     2240  LS failed, Hessian reset \n",
      "    1799       9770.98   5.92792e-05       80.0614      0.3279      0.3279     2311   \n",
      "    Iter      log prob        ||dx||      ||grad||       alpha      alpha0  # evals  Notes \n",
      "    1899       9771.16   0.000115174       131.437      0.3544           1     2432   \n",
      "    Iter      log prob        ||dx||      ||grad||       alpha      alpha0  # evals  Notes \n",
      "    1928       9771.19   7.22596e-06        95.267   1.171e-07       0.001     2514  LS failed, Hessian reset \n",
      "    1973       9771.22   7.16874e-06       57.0018   4.764e-08       0.001     2631  LS failed, Hessian reset \n",
      "    1999       9771.27   5.22501e-05       58.7782           1           1     2662   \n",
      "    Iter      log prob        ||dx||      ||grad||       alpha      alpha0  # evals  Notes \n",
      "    2022       9771.28   1.08259e-05       99.9214   1.643e-07       0.001     2760  LS failed, Hessian reset \n",
      "    2030       9771.28   6.03543e-07       49.1576      0.3523           1     2770   \n",
      "Optimization terminated normally: \n",
      "  Convergence detected: relative gradient magnitude is below tolerance\n"
     ]
    }
   ],
   "source": [
    "\n",
    "# define the model\n",
    "model = Prophet()\n",
    "# fit the model\n",
    "model.fit(amazon_cl)\n"
   ]
  },
  {
   "cell_type": "markdown",
   "id": "449947a3",
   "metadata": {},
   "source": [
    "## Make an In-sample Forecast <a class=\"anchor\" id=\"IN\"></a>"
   ]
  },
  {
   "cell_type": "code",
   "execution_count": 72,
   "id": "aa869acc",
   "metadata": {},
   "outputs": [
    {
     "name": "stderr",
     "output_type": "stream",
     "text": [
      "/Users/pallavibothra/opt/anaconda3/envs/prophet39/lib/python3.9/site-packages/prophet/forecaster.py:896: FutureWarning: The frame.append method is deprecated and will be removed from pandas in a future version. Use pandas.concat instead.\n",
      "  components = components.append(new_comp)\n",
      "/Users/pallavibothra/opt/anaconda3/envs/prophet39/lib/python3.9/site-packages/prophet/forecaster.py:896: FutureWarning: The frame.append method is deprecated and will be removed from pandas in a future version. Use pandas.concat instead.\n",
      "  components = components.append(new_comp)\n"
     ]
    },
    {
     "name": "stdout",
     "output_type": "stream",
     "text": [
      "          ds         yhat  yhat_lower   yhat_upper\n",
      "0 2017-10-03  1017.964709  987.468253  1048.790653\n",
      "1 2017-10-04  1018.396683  986.502601  1050.772603\n",
      "2 2017-10-05  1019.193480  988.176021  1050.910853\n",
      "3 2017-10-06  1019.529510  988.912420  1050.793971\n",
      "4 2017-10-09  1021.316772  988.288995  1049.519072\n"
     ]
    },
    {
     "data": {
      "image/png": "[encoded data removed]",
      "text/plain": [
       "<Figure size 720x432 with 1 Axes>"
      ]
     },
     "metadata": {},
     "output_type": "display_data"
    }
   ],
   "source": [
    "future = list()\n",
    "date_list = amazon_cl['ds'].tail(30).tolist()\n",
    "for i in range(1, 30):\n",
    "    date = date_list[i]\n",
    "    future.append([date])\n",
    "\n",
    "future = pd.DataFrame(future)\n",
    "future.columns = ['ds']\n",
    "#future['ds']= to_datetime(future['ds'])\n",
    "forecast = model.predict(future)\n",
    "# summarize the forecast\n",
    "print(forecast[['ds', 'yhat', 'yhat_lower', 'yhat_upper']].head())\n",
    "# plot forecast\n",
    "model.plot(forecast)\n",
    "plt.show()"
   ]
  },
  {
   "cell_type": "markdown",
   "id": "31c9b656",
   "metadata": {},
   "source": [
    "## Make an Out-Of-sample Forecast <a class=\"anchor\" id=\"OUT\"></a>"
   ]
  },
  {
   "cell_type": "markdown",
   "id": "ec5ee841",
   "metadata": {},
   "source": [
    "amazon_cl_train = amazon_cl.drop(amazon_cl.index[-30:])"
   ]
  },
  {
   "cell_type": "code",
   "execution_count": 74,
   "id": "7c5659b2",
   "metadata": {},
   "outputs": [
    {
     "name": "stderr",
     "output_type": "stream",
     "text": [
      "INFO:prophet:Disabling daily seasonality. Run prophet with daily_seasonality=True to override this.\n",
      "/Users/pallavibothra/opt/anaconda3/envs/prophet39/lib/python3.9/site-packages/prophet/forecaster.py:896: FutureWarning: The frame.append method is deprecated and will be removed from pandas in a future version. Use pandas.concat instead.\n",
      "  components = components.append(new_comp)\n"
     ]
    },
    {
     "name": "stdout",
     "output_type": "stream",
     "text": [
      "Initial log joint probability = -86.8346\n",
      "    Iter      log prob        ||dx||      ||grad||       alpha      alpha0  # evals  Notes \n",
      "      99       9031.12      0.261814       9762.89           1           1      125   \n",
      "    Iter      log prob        ||dx||      ||grad||       alpha      alpha0  # evals  Notes \n",
      "     199       9248.65     0.0478723       3335.78           1           1      234   \n",
      "    Iter      log prob        ||dx||      ||grad||       alpha      alpha0  # evals  Notes \n",
      "     299       9399.91    0.00545629       1709.65           1           1      350   \n",
      "    Iter      log prob        ||dx||      ||grad||       alpha      alpha0  # evals  Notes \n",
      "     399       9419.78    0.00027755       278.375           1           1      464   \n",
      "    Iter      log prob        ||dx||      ||grad||       alpha      alpha0  # evals  Notes \n",
      "     499        9444.5     0.0242538       2089.25           1           1      576   \n",
      "    Iter      log prob        ||dx||      ||grad||       alpha      alpha0  # evals  Notes \n",
      "     599       9455.36    0.00797319       576.512           1           1      687   \n",
      "    Iter      log prob        ||dx||      ||grad||       alpha      alpha0  # evals  Notes \n",
      "     699       9459.75    0.00332602         729.9           1           1      802   \n",
      "    Iter      log prob        ||dx||      ||grad||       alpha      alpha0  # evals  Notes \n",
      "     799       9463.28   0.000740269        153.02           1           1      918   \n",
      "    Iter      log prob        ||dx||      ||grad||       alpha      alpha0  # evals  Notes \n",
      "     899       9466.18   0.000168037        446.45       0.547      0.0547     1035   \n",
      "    Iter      log prob        ||dx||      ||grad||       alpha      alpha0  # evals  Notes \n",
      "     999       9468.25   9.45221e-05       873.897      0.2356      0.2356     1150   \n",
      "    Iter      log prob        ||dx||      ||grad||       alpha      alpha0  # evals  Notes \n",
      "    1099       9470.31    0.00340554       1330.03           1           1     1272   \n",
      "    Iter      log prob        ||dx||      ||grad||       alpha      alpha0  # evals  Notes \n",
      "    1106       9470.38   1.52018e-05       122.176   6.481e-08       0.001     1322  LS failed, Hessian reset \n",
      "    1162       9470.71   2.83893e-05       195.927   1.749e-07       0.001     1440  LS failed, Hessian reset \n",
      "    1199        9470.8   4.53639e-05        115.03       0.602       0.602     1486   \n",
      "    Iter      log prob        ||dx||      ||grad||       alpha      alpha0  # evals  Notes \n",
      "    1299       9478.01     0.0168021       322.821           1           1     1604   \n",
      "    Iter      log prob        ||dx||      ||grad||       alpha      alpha0  # evals  Notes \n",
      "    1399       9482.83    0.00485825       315.407           1           1     1718   \n",
      "    Iter      log prob        ||dx||      ||grad||       alpha      alpha0  # evals  Notes \n",
      "    1499       9484.64    0.00059206        497.82      0.9099      0.9099     1826   \n",
      "    Iter      log prob        ||dx||      ||grad||       alpha      alpha0  # evals  Notes \n",
      "    1599       9485.37   0.000148823        100.54           1           1     1946   \n",
      "    Iter      log prob        ||dx||      ||grad||       alpha      alpha0  # evals  Notes \n",
      "    1619       9485.53   1.69462e-05       151.703   1.762e-07       0.001     2048  LS failed, Hessian reset \n",
      "    1699       9485.85    0.00565653       158.179           1           1     2150   \n",
      "    Iter      log prob        ||dx||      ||grad||       alpha      alpha0  # evals  Notes \n",
      "    1702       9485.87   1.37796e-05       127.063   9.241e-08       0.001     2198  LS failed, Hessian reset \n",
      "    1737       9486.07   3.64103e-05       114.728   4.992e-07       0.001     2285  LS failed, Hessian reset \n",
      "    1786       9486.17   1.17446e-05       121.315   1.057e-07       0.001     2397  LS failed, Hessian reset \n",
      "    1799       9486.19   1.10878e-05       111.818      0.1219      0.4056     2416   \n",
      "    Iter      log prob        ||dx||      ||grad||       alpha      alpha0  # evals  Notes \n",
      "    1812       9486.19   2.46573e-07       54.1415      0.1925           1     2441   \n",
      "Optimization terminated normally: \n",
      "  Convergence detected: relative gradient magnitude is below tolerance\n"
     ]
    },
    {
     "name": "stderr",
     "output_type": "stream",
     "text": [
      "/Users/pallavibothra/opt/anaconda3/envs/prophet39/lib/python3.9/site-packages/prophet/forecaster.py:896: FutureWarning: The frame.append method is deprecated and will be removed from pandas in a future version. Use pandas.concat instead.\n",
      "  components = components.append(new_comp)\n",
      "/Users/pallavibothra/opt/anaconda3/envs/prophet39/lib/python3.9/site-packages/prophet/forecaster.py:896: FutureWarning: The frame.append method is deprecated and will be removed from pandas in a future version. Use pandas.concat instead.\n",
      "  components = components.append(new_comp)\n"
     ]
    },
    {
     "name": "stdout",
     "output_type": "stream",
     "text": [
      "RMSE: 57.683\n"
     ]
    },
    {
     "data": {
      "image/png": "[encoded data removed]",
      "text/plain": [
       "<Figure size 432x288 with 1 Axes>"
      ]
     },
     "metadata": {
      "needs_background": "light"
     },
     "output_type": "display_data"
    }
   ],
   "source": [
    "model_hold_out = Prophet()\n",
    "# fit the model\n",
    "model_hold_out.fit(amazon_cl_train)\n",
    "date_list = amazon_cl['ds'].tail(30).tolist()\n",
    "# define the period for which we want a prediction\n",
    "future_hold_out = list()\n",
    "for i in range(0, 30):\n",
    "    date = date_list[i]\n",
    "    future_hold_out.append([date])\n",
    "future_hold_out = pd.DataFrame(future_hold_out)\n",
    "future_hold_out.columns = ['ds']\n",
    "# use the model to make a forecast\n",
    "forecast_hold_out = model_hold_out.predict(future_hold_out)\n",
    "# calculate MAE between expected and predicted values for december\n",
    "y_true = amazon_cl['y'][-30:].values\n",
    "y_pred = forecast_hold_out['yhat'].values\n",
    "#mae = mean_absolute_error(y_true, y_pred)\n",
    "rmse = np.sqrt(np.square(np.subtract(y_true,y_pred)).mean())\n",
    "print('RMSE: %.3f' % rmse)\n",
    "# plot expected vs actual\n",
    "plt.plot(y_true, label='Actual')\n",
    "plt.plot(y_pred, label='Predicted')\n",
    "plt.legend()\n",
    "plt.show()"
   ]
  },
  {
   "cell_type": "code",
   "execution_count": null,
   "id": "0d443a8a",
   "metadata": {},
   "outputs": [],
   "source": []
  },
  {
   "cell_type": "code",
   "execution_count": null,
   "id": "ef41413c",
   "metadata": {},
   "outputs": [],
   "source": []
  }
 ],
 "metadata": {
  "kernelspec": {
   "display_name": "prophet39",
   "language": "python",
   "name": "prophet39"
  },
  "language_info": {
   "codemirror_mode": {
    "name": "ipython",
    "version": 3
   },
   "file_extension": ".py",
   "mimetype": "text/x-python",
   "name": "python",
   "nbconvert_exporter": "python",
   "pygments_lexer": "ipython3",
   "version": "3.9.7"
  }
 },
 "nbformat": 4,
 "nbformat_minor": 5
}
